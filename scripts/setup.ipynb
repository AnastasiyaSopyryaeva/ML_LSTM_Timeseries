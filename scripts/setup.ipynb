{
 "cells": [
  {
   "cell_type": "markdown",
   "id": "2eee1858-086b-413c-9c7a-ec02937e0659",
   "metadata": {},
   "source": [
    "# Setup "
   ]
  },
  {
   "cell_type": "markdown",
   "id": "d5d865e3-268a-4ee8-98e6-50dd2bad1dbf",
   "metadata": {},
   "source": [
    "Installing the correct versions of the libraries and dependencies for the project here."
   ]
  },
  {
   "cell_type": "code",
   "execution_count": null,
   "id": "592f87a7-8768-4c98-9430-ef8e4c28abbe",
   "metadata": {},
   "outputs": [],
   "source": [
    "# Python ≥3.5 is required\n",
    "import sys\n",
    "assert sys.version_info >= (3, 5)\n",
    "\n",
    "# Common imports\n",
    "import os #It provides operating system operations.\n",
    "\n",
    "#numpy version = 1.21.6\n",
    "import numpy as np\n",
    "\n",
    "#panda version = 1.3.5\n",
    "import pandas as pd\n",
    "\n",
    "# To plot pretty figures\n",
    "# matplotlib version = 3.2.2\n",
    "%matplotlib inline \n",
    "import matplotlib as mpl \n",
    "\n",
    "# To create interactive plot\n",
    "import matplotlib.pyplot as plt #It provides a MATLAB-like way of plotting.\n",
    "\n",
    "# To load Keras \n",
    "# keras version = 2.9.0\n",
    "import keras\n",
    "\n",
    "# To load tensorflow models\n",
    "# tensorflow version = 2.9.2\n",
    "import tensorflow as tf\n",
    "from tensorflow.keras.callbacks import ModelCheckpoint\n",
    "from tensorflow.keras.models import Sequential\n",
    "from tensorflow.keras.layers import Dense, LSTM\n",
    "from tensorflow.keras.losses import MeanSquaredError\n",
    "from tensorflow.keras.metrics import RootMeanSquaredError\n",
    "from tensorflow.keras.optimizers import Adam, SGD, RMSprop \n",
    "\n",
    "# Where to save the data, results and images\n",
    "\n",
    "data_path = 'data'"
   ]
  }
 ],
 "metadata": {
  "kernelspec": {
   "display_name": "Python 3 (ipykernel)",
   "language": "python",
   "name": "python3"
  },
  "language_info": {
   "codemirror_mode": {
    "name": "ipython",
    "version": 3
   },
   "file_extension": ".py",
   "mimetype": "text/x-python",
   "name": "python",
   "nbconvert_exporter": "python",
   "pygments_lexer": "ipython3",
   "version": "3.10.8"
  }
 },
 "nbformat": 4,
 "nbformat_minor": 5
}
